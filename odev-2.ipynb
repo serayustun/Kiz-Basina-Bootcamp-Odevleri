{
 "cells": [
  {
   "cell_type": "code",
   "execution_count": 2,
   "id": "030bf51d-f5e6-41c9-a8a7-a3545f03c534",
   "metadata": {},
   "outputs": [],
   "source": [
    "import os\n",
    "import numpy as np\n",
    "import pandas as pd"
   ]
  },
  {
   "cell_type": "code",
   "execution_count": 3,
   "id": "2d0a4d91-ed58-41a0-b5fa-867635fc7ec6",
   "metadata": {},
   "outputs": [],
   "source": [
    "df_titanic = pd.read_csv(r\"C:\\DataSets\\titanic\\train.csv\")"
   ]
  },
  {
   "cell_type": "code",
   "execution_count": 24,
   "id": "e046bbc7-b3fd-417d-a3b4-78f8ec74f5a5",
   "metadata": {},
   "outputs": [
    {
     "data": {
      "text/html": [
       "<div>\n",
       "<style scoped>\n",
       "    .dataframe tbody tr th:only-of-type {\n",
       "        vertical-align: middle;\n",
       "    }\n",
       "\n",
       "    .dataframe tbody tr th {\n",
       "        vertical-align: top;\n",
       "    }\n",
       "\n",
       "    .dataframe thead th {\n",
       "        text-align: right;\n",
       "    }\n",
       "</style>\n",
       "<table border=\"1\" class=\"dataframe\">\n",
       "  <thead>\n",
       "    <tr style=\"text-align: right;\">\n",
       "      <th></th>\n",
       "      <th>PassengerId</th>\n",
       "      <th>Survived</th>\n",
       "      <th>Pclass</th>\n",
       "      <th>Name</th>\n",
       "      <th>Sex</th>\n",
       "      <th>Age</th>\n",
       "      <th>SibSp</th>\n",
       "      <th>Parch</th>\n",
       "      <th>Ticket</th>\n",
       "      <th>Fare</th>\n",
       "      <th>Cabin</th>\n",
       "      <th>Embarked</th>\n",
       "    </tr>\n",
       "  </thead>\n",
       "  <tbody>\n",
       "    <tr>\n",
       "      <th>0</th>\n",
       "      <td>1</td>\n",
       "      <td>0</td>\n",
       "      <td>3</td>\n",
       "      <td>Braund, Mr. Owen Harris</td>\n",
       "      <td>male</td>\n",
       "      <td>22.0</td>\n",
       "      <td>1</td>\n",
       "      <td>0</td>\n",
       "      <td>A/5 21171</td>\n",
       "      <td>7.2500</td>\n",
       "      <td>NaN</td>\n",
       "      <td>S</td>\n",
       "    </tr>\n",
       "    <tr>\n",
       "      <th>1</th>\n",
       "      <td>2</td>\n",
       "      <td>1</td>\n",
       "      <td>1</td>\n",
       "      <td>Cumings, Mrs. John Bradley (Florence Briggs Th...</td>\n",
       "      <td>female</td>\n",
       "      <td>38.0</td>\n",
       "      <td>1</td>\n",
       "      <td>0</td>\n",
       "      <td>PC 17599</td>\n",
       "      <td>71.2833</td>\n",
       "      <td>C85</td>\n",
       "      <td>C</td>\n",
       "    </tr>\n",
       "    <tr>\n",
       "      <th>2</th>\n",
       "      <td>3</td>\n",
       "      <td>1</td>\n",
       "      <td>3</td>\n",
       "      <td>Heikkinen, Miss. Laina</td>\n",
       "      <td>female</td>\n",
       "      <td>26.0</td>\n",
       "      <td>0</td>\n",
       "      <td>0</td>\n",
       "      <td>STON/O2. 3101282</td>\n",
       "      <td>7.9250</td>\n",
       "      <td>NaN</td>\n",
       "      <td>S</td>\n",
       "    </tr>\n",
       "    <tr>\n",
       "      <th>3</th>\n",
       "      <td>4</td>\n",
       "      <td>1</td>\n",
       "      <td>1</td>\n",
       "      <td>Futrelle, Mrs. Jacques Heath (Lily May Peel)</td>\n",
       "      <td>female</td>\n",
       "      <td>35.0</td>\n",
       "      <td>1</td>\n",
       "      <td>0</td>\n",
       "      <td>113803</td>\n",
       "      <td>53.1000</td>\n",
       "      <td>C123</td>\n",
       "      <td>S</td>\n",
       "    </tr>\n",
       "    <tr>\n",
       "      <th>4</th>\n",
       "      <td>5</td>\n",
       "      <td>0</td>\n",
       "      <td>3</td>\n",
       "      <td>Allen, Mr. William Henry</td>\n",
       "      <td>male</td>\n",
       "      <td>35.0</td>\n",
       "      <td>0</td>\n",
       "      <td>0</td>\n",
       "      <td>373450</td>\n",
       "      <td>8.0500</td>\n",
       "      <td>NaN</td>\n",
       "      <td>S</td>\n",
       "    </tr>\n",
       "  </tbody>\n",
       "</table>\n",
       "</div>"
      ],
      "text/plain": [
       "   PassengerId  Survived  Pclass  \\\n",
       "0            1         0       3   \n",
       "1            2         1       1   \n",
       "2            3         1       3   \n",
       "3            4         1       1   \n",
       "4            5         0       3   \n",
       "\n",
       "                                                Name     Sex   Age  SibSp  \\\n",
       "0                            Braund, Mr. Owen Harris    male  22.0      1   \n",
       "1  Cumings, Mrs. John Bradley (Florence Briggs Th...  female  38.0      1   \n",
       "2                             Heikkinen, Miss. Laina  female  26.0      0   \n",
       "3       Futrelle, Mrs. Jacques Heath (Lily May Peel)  female  35.0      1   \n",
       "4                           Allen, Mr. William Henry    male  35.0      0   \n",
       "\n",
       "   Parch            Ticket     Fare Cabin Embarked  \n",
       "0      0         A/5 21171   7.2500   NaN        S  \n",
       "1      0          PC 17599  71.2833   C85        C  \n",
       "2      0  STON/O2. 3101282   7.9250   NaN        S  \n",
       "3      0            113803  53.1000  C123        S  \n",
       "4      0            373450   8.0500   NaN        S  "
      ]
     },
     "execution_count": 24,
     "metadata": {},
     "output_type": "execute_result"
    }
   ],
   "source": [
    "df_titanic.head()"
   ]
  },
  {
   "cell_type": "markdown",
   "id": "268a5ead-5472-4fef-82cf-161997c5c79f",
   "metadata": {},
   "source": [
    "**1-Kazada ölenlerin yaş ortalamasını bulunuz**\n",
    "\n"
   ]
  },
  {
   "cell_type": "code",
   "execution_count": 5,
   "id": "48d11352-42a6-48d4-8a72-efd972e9d032",
   "metadata": {},
   "outputs": [
    {
     "name": "stdout",
     "output_type": "stream",
     "text": [
      "Kazada ölenlerin yaş ortalaması:  30.62617924528302\n"
     ]
    }
   ],
   "source": [
    "died = df_titanic[df_titanic['Survived'] == 0]\n",
    "average_age_died = died['Age'].mean()\n",
    "print(\"Kazada ölenlerin yaş ortalaması: \", average_age_died)"
   ]
  },
  {
   "cell_type": "markdown",
   "id": "482ef2a4-fb73-49f4-abf1-3acefe2c7d74",
   "metadata": {},
   "source": [
    "**2-Kazada ölenlerin bilet fiyatlarının ortalamasını ve medyanını bulunuz**"
   ]
  },
  {
   "cell_type": "code",
   "execution_count": 7,
   "id": "f132d4a3-6b21-44f3-b012-8c4feefc6e08",
   "metadata": {},
   "outputs": [
    {
     "name": "stdout",
     "output_type": "stream",
     "text": [
      "Kazada ölenlerin bilet fiyatlarının ortalaması: 22.117886885245902\n",
      "Kazada ölenlerin bilet fiyatlarının medyanı: 10.5\n"
     ]
    }
   ],
   "source": [
    "average_fare_died = died['Fare'].mean() #Fare: yolcunun ödediği bilet ücreti\n",
    "median_fare_died = died['Fare'].median()\n",
    "print(\"Kazada ölenlerin bilet fiyatlarının ortalaması:\", average_fare_died)\n",
    "print(\"Kazada ölenlerin bilet fiyatlarının medyanı:\", median_fare_died)"
   ]
  },
  {
   "cell_type": "markdown",
   "id": "a090ff97-8c3d-4ef7-8c3a-e7ee08a66871",
   "metadata": {},
   "source": [
    "**3-Kazada ölen erkeklerin yaş ortalamasını bulunuz**"
   ]
  },
  {
   "cell_type": "code",
   "execution_count": 11,
   "id": "515c7ead-a0f8-4da1-ba68-572473a23620",
   "metadata": {},
   "outputs": [
    {
     "name": "stdout",
     "output_type": "stream",
     "text": [
      "Kazada ölen erkeklerin yaş ortalaması: 31.618055555555557\n"
     ]
    }
   ],
   "source": [
    "died_men = died[died['Sex'] == 'male']\n",
    "average_men_died = died_men['Age'].mean()\n",
    "print(\"Kazada ölen erkeklerin yaş ortalaması:\", average_men_died)"
   ]
  },
  {
   "cell_type": "markdown",
   "id": "f05d9e00-fd55-4416-9a04-f7039e6f62a3",
   "metadata": {},
   "source": [
    "**4-Kazada ölen Kadınların yaş ortalamasını bulunuz**"
   ]
  },
  {
   "cell_type": "code",
   "execution_count": 16,
   "id": "ff4bfc16-63e2-492d-aa56-878aea98d197",
   "metadata": {},
   "outputs": [
    {
     "name": "stdout",
     "output_type": "stream",
     "text": [
      "Kazada ölen kadınların yaş ortalaması: 25.046875\n"
     ]
    }
   ],
   "source": [
    "died_women = died[died['Sex'] == 'female']\n",
    "average_women_died = died_women['Age'].mean()\n",
    "print(\"Kazada ölen kadınların yaş ortalaması:\", average_women_died)"
   ]
  },
  {
   "cell_type": "markdown",
   "id": "f358e93b-3c2f-4c16-acc5-2e12cca5d569",
   "metadata": {},
   "source": [
    "**5-Kazadan kurtulanların yaş ortalamasını bulunuz**"
   ]
  },
  {
   "cell_type": "code",
   "execution_count": 17,
   "id": "12cf1239-6fce-4fa0-bf75-21d5e8fb82d7",
   "metadata": {},
   "outputs": [
    {
     "name": "stdout",
     "output_type": "stream",
     "text": [
      "Kazadan kurtulanların yaş ortalaması: 28.343689655172415\n"
     ]
    }
   ],
   "source": [
    "survived = df_titanic[df_titanic['Survived'] == 1]\n",
    "average_age_survived = not_died['Age'].mean()\n",
    "print(\"Kazadan kurtulanların yaş ortalaması:\", average_age_survived)"
   ]
  },
  {
   "cell_type": "markdown",
   "id": "7f0bfa68-6349-41d8-8e7d-7df191fccae4",
   "metadata": {},
   "source": [
    "**6-Kazadan kurtulanların bilet fiyatlarının ortalamasını bulunuz**"
   ]
  },
  {
   "cell_type": "code",
   "execution_count": 18,
   "id": "f014e1e8-b44e-460d-bf15-c82ded02594a",
   "metadata": {},
   "outputs": [
    {
     "name": "stdout",
     "output_type": "stream",
     "text": [
      "Kazadan kurtulanların bilet fiyatlarının ortalması: 48.39540760233918\n"
     ]
    }
   ],
   "source": [
    "average_fare_survived = not_died['Fare'].mean()\n",
    "print(\"Kazadan kurtulanların bilet fiyatlarının ortalması:\", average_fare_survived)"
   ]
  },
  {
   "cell_type": "markdown",
   "id": "b48647e3-7e64-4551-98e1-5f4caea8c56c",
   "metadata": {},
   "source": [
    "**7-Kazadan kurtulan toplam kişi sayısını bulunuz**"
   ]
  },
  {
   "cell_type": "code",
   "execution_count": 19,
   "id": "9ea63d13-5dcc-4000-84d4-c23dd23e803a",
   "metadata": {},
   "outputs": [
    {
     "name": "stdout",
     "output_type": "stream",
     "text": [
      "Kazadan kurtulan toplam kişi sayısı: 342\n"
     ]
    }
   ],
   "source": [
    "total_survived = len(survived)\n",
    "print(\"Kazadan kurtulan toplam kişi sayısı:\", total_survived)"
   ]
  },
  {
   "cell_type": "markdown",
   "id": "99c41c55-6c42-4252-8fff-d2b747a65f53",
   "metadata": {},
   "source": [
    "**8-10 yaşından küçüklerin bilet fiyatlarının medyan değerini bulunuz**"
   ]
  },
  {
   "cell_type": "code",
   "execution_count": 21,
   "id": "b2a4546f-0571-4bfe-83e0-023dd1fb7848",
   "metadata": {},
   "outputs": [
    {
     "name": "stdout",
     "output_type": "stream",
     "text": [
      "10 yaşından küçüklerin bilet fiyatlarının medyan değeri: 27.0\n"
     ]
    }
   ],
   "source": [
    "age_less_ten = df_titanic[df_titanic['Age']< 10]\n",
    "age_less_ten_fare_median = age_less_ten['Fare'].median()\n",
    "print(\"10 yaşından küçüklerin bilet fiyatlarının medyan değeri:\", age_less_ten_fare_median)"
   ]
  },
  {
   "cell_type": "markdown",
   "id": "525c9c43-9cfe-4a94-9a37-cc902da5bd8f",
   "metadata": {},
   "source": [
    "**9-1.sınıf, 2.sınıf ve 3.sınıf bilet fiyatlarının ortalama ve medyanlarını karşılaştırınız. (Pclass değişkeni sınıfları barındırmaktadır.)**"
   ]
  },
  {
   "cell_type": "code",
   "execution_count": 25,
   "id": "7eb27658-aaf0-4361-bf05-95e7f51ccb52",
   "metadata": {},
   "outputs": [
    {
     "name": "stdout",
     "output_type": "stream",
     "text": [
      "Pclass 1 - Average fare: 84.1546875, Median fare: 60.287499999999994\n",
      "Pclass 2 - Average fare: 20.662183152173913, Median fare: 14.25\n",
      "Pclass 3 - Average fare: 13.675550101832993, Median fare: 8.05\n"
     ]
    }
   ],
   "source": [
    "for pclass in [1, 2, 3]:\n",
    "    class_df = df_titanic[df_titanic['Pclass'] == pclass]\n",
    "    average_fare = class_df['Fare'].mean()\n",
    "    median_fare = class_df['Fare'].median()\n",
    "    print(f\"Pclass {pclass} - Average fare: {average_fare}, Median fare: {median_fare}\")    "
   ]
  },
  {
   "cell_type": "markdown",
   "id": "75de98b5-037d-4474-ab98-47e5b1a7d8e8",
   "metadata": {},
   "source": [
    "**10-Kazada ölen kadınların oranı ile erkeklerin oranını karşılaştırınız.**"
   ]
  },
  {
   "cell_type": "code",
   "execution_count": 27,
   "id": "03adf782-23ff-4db7-abb8-fb221a2c3008",
   "metadata": {},
   "outputs": [
    {
     "name": "stdout",
     "output_type": "stream",
     "text": [
      "Kazada ölen kadınların oranı: 0.25796178343949044\n",
      "Kazada ölen erkeklerin oranı: 0.8110918544194108\n"
     ]
    }
   ],
   "source": [
    "total_men = df_titanic[df_titanic['Sex'] == 'male']\n",
    "total_women = df_titanic[df_titanic['Sex'] == 'female']\n",
    "\n",
    "death_rate_men = len(died_men) / len(total_men)\n",
    "death_rate_women = len(died_women) / len(total_women)\n",
    "print(\"Kazada ölen kadınların oranı:\", death_rate_women)\n",
    "print(\"Kazada ölen erkeklerin oranı:\", death_rate_men)"
   ]
  },
  {
   "cell_type": "code",
   "execution_count": null,
   "id": "ffe76e0f-0da1-4e5e-98f1-cbf8effa1e9e",
   "metadata": {},
   "outputs": [],
   "source": []
  }
 ],
 "metadata": {
  "kernelspec": {
   "display_name": "Python 3 (ipykernel)",
   "language": "python",
   "name": "python3"
  },
  "language_info": {
   "codemirror_mode": {
    "name": "ipython",
    "version": 3
   },
   "file_extension": ".py",
   "mimetype": "text/x-python",
   "name": "python",
   "nbconvert_exporter": "python",
   "pygments_lexer": "ipython3",
   "version": "3.12.7"
  }
 },
 "nbformat": 4,
 "nbformat_minor": 5
}
